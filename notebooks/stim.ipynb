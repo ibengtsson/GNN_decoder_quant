{
 "cells": [
  {
   "cell_type": "code",
   "execution_count": 1,
   "metadata": {},
   "outputs": [],
   "source": [
    "import stim\n",
    "import numpy as np\n",
    "import matplotlib.pyplot as plt\n",
    "import seaborn as sns\n",
    "sns.set()\n",
    "\n",
    "# circuit\n",
    "reps = 5\n",
    "circuit = stim.Circuit.generated(\n",
    "    \"surface_code:rotated_memory_z\",\n",
    "    rounds=reps,\n",
    "    distance=5,\n",
    "    after_clifford_depolarization=0.002,\n",
    ")\n",
    "\n",
    "# create detection grid for circuit\n",
    "det_coords = circuit.get_detector_coordinates()\n",
    "det_coords = np.array(list(det_coords.values()))\n",
    "\n",
    "# rescale space like coordinates:\n",
    "det_coords[:, :2] = det_coords[:, :2] / 2\n",
    "\n",
    "# convert to integers\n",
    "det_coords = det_coords.astype(np.uint8)\n",
    "\n",
    "# sampler\n",
    "n_shots = 10\n",
    "sampler = circuit.compile_detector_sampler()\n",
    "stim_data, observable_flips = sampler.sample(shots=n_shots, separate_observables=True)"
   ]
  },
  {
   "cell_type": "code",
   "execution_count": 2,
   "metadata": {},
   "outputs": [
    {
     "data": {
      "image/png": "[encoded data removed]",
      "text/plain": [
       "<Figure size 640x480 with 1 Axes>"
      ]
     },
     "metadata": {},
     "output_type": "display_data"
    }
   ],
   "source": [
    "def syndrome_mask(code_size, reps=5):\n",
    "    \n",
    "    sz = code_size + 1\n",
    "    \n",
    "    syndrome_x = np.zeros((sz, sz), dtype=np.uint8)\n",
    "    syndrome_x[::2, 1:sz - 1:2] = 1\n",
    "    syndrome_x[1::2, 2::2] = 1\n",
    "    \n",
    "    syndrome_z = np.rot90(syndrome_x) * 3\n",
    "    \n",
    "    return np.dstack([syndrome_x + syndrome_z] * (reps +  1))\n",
    "\n",
    "code_size = 5\n",
    "m = syndrome_mask(code_size, reps)\n",
    "\n",
    "fig, ax = plt.subplots()\n",
    "xx, yy = np.meshgrid(range(6), range(6))\n",
    "\n",
    "from matplotlib import colors as c\n",
    "\n",
    "cmap = c.ListedColormap(['w', 'b', 'g'])\n",
    "ax.pcolormesh(xx, yy, m[:, :, 0], cmap=cmap)\n",
    "ax.set_title(f\"Surface code with size {code_size}\");\n"
   ]
  },
  {
   "cell_type": "code",
   "execution_count": 3,
   "metadata": {},
   "outputs": [],
   "source": [
    "def stim_to_syndrome(stabilizer_changes, det_coords, code_grid):\n",
    "    \n",
    "    syndrome = np.zeros_like(code_grid)\n",
    "    print(det_coords.shape)\n",
    "    \n",
    "    # stack stabilizer changes as first-to-last time step\n",
    "    # note that detector coords represents the coordinates (x, y, t) of the measurement qubits\n",
    "    syndrome[det_coords[:, 1], det_coords[:, 2], det_coords[:, 2]] = stabilizer_changes\n",
    "    \n",
    "    # we only care about differences in measurements\n",
    "    syndrome[:, :, 1:] = (syndrome[:, :, 1:] - syndrome[:, :, 0:-1]) % 2\n",
    "    \n",
    "    # using our code_grid we can convert X/Z stabilizer measurements to 1:s and 3:s\n",
    "    syndrome[np.nonzero(syndrome)] = code_grid[np.nonzero(syndrome)]\n",
    "    \n",
    "    return syndrome"
   ]
  },
  {
   "cell_type": "code",
   "execution_count": 4,
   "metadata": {},
   "outputs": [
    {
     "name": "stdout",
     "output_type": "stream",
     "text": [
      "stabilizer_changes.shape=(6, 120)\n",
      "det_coords.shape=(120, 3)\n",
      "flips=array([[False],\n",
      "       [False],\n",
      "       [False],\n",
      "       [False],\n",
      "       [False],\n",
      "       [False]])\n",
      "(120, 3)\n"
     ]
    }
   ],
   "source": [
    "# sums over the detectors to check if we have a parity change\n",
    "shots_w_flips = np.sum(stim_data, axis=1) != 0\n",
    "\n",
    "# save only data for measurements with non-empty syndromes\n",
    "stabilizer_changes = stim_data[shots_w_flips, :]\n",
    "flips = observable_flips[shots_w_flips]\n",
    "\n",
    "print(f\"{stabilizer_changes.shape=}\")\n",
    "print(f\"{det_coords.shape=}\")\n",
    "print(f\"{flips=}\")\n",
    "\n",
    "syndrome = stim_to_syndrome(stabilizer_changes[0, :], det_coords, m)\n"
   ]
  }
 ],
 "metadata": {
  "kernelspec": {
   "display_name": "dml_cpu",
   "language": "python",
   "name": "python3"
  },
  "language_info": {
   "codemirror_mode": {
    "name": "ipython",
    "version": 3
   },
   "file_extension": ".py",
   "mimetype": "text/x-python",
   "name": "python",
   "nbconvert_exporter": "python",
   "pygments_lexer": "ipython3",
   "version": "3.11.6"
  }
 },
 "nbformat": 4,
 "nbformat_minor": 2
}
